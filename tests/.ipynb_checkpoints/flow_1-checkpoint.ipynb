{
 "cells": [
  {
   "cell_type": "code",
   "execution_count": 1,
   "metadata": {
    "collapsed": true
   },
   "outputs": [],
   "source": [
    "%matplotlib inline\n",
    "\n",
    "import matplotlib\n",
    "import numpy as np\n",
    "import matplotlib.pyplot as plt"
   ]
  },
  {
   "cell_type": "code",
   "execution_count": 7,
   "metadata": {
    "collapsed": true
   },
   "outputs": [],
   "source": [
    "def calc_can_flow(obstacles):\n",
    "    flow = np.zeros_like(obstacles)\n",
    "\n",
    "    flow[-1, :] = 1\n",
    "\n",
    "    for x in range(obstacles.shape[0]-2, -1, -1):\n",
    "        flow[x] = np.logical_and(flow[x+1], np.logical_not(obstacles[x]))\n",
    "        \n",
    "        # FLOOD FILL\n",
    "        seen = np.zeros(obstacles.shape[1])\n",
    "        opens = []\n",
    "        for i in range(obstacles.shape[1]):\n",
    "            if flow[x, i]:\n",
    "                opens.append((i))\n",
    "        while opens:\n",
    "            i = opens.pop()\n",
    "            if i > 0 and not seen[i-1] and not obstacles[x, i-1]:\n",
    "                flow[x, i-1] = 1\n",
    "                opens.append(i-1)\n",
    "                seen[i-1] = 1\n",
    "\n",
    "            if i < obstacles.shape[1]-1 and not seen[i+1] and not obstacles[x, i+1]:\n",
    "                flow[x, i+1] = 1\n",
    "                opens.append(i+1)\n",
    "                seen[i+1] = 1\n",
    "                \n",
    "    return flow\n",
    "\n",
    "def flow_particle(x, y, v, grid, can_flow, dy=0):\n",
    "    y2 = y\n",
    "    while not can_flow[x+1, y2]:\n",
    "        if can_flow[x, y2+dy]:\n",
    "            y2 += dy\n",
    "        else:\n",
    "            return\n",
    "    \n",
    "    if y == y2:\n",
    "        return\n",
    "    \n",
    "    v /= abs(y2 - y)\n",
    "\n",
    "    while y != y2:\n",
    "        y += dy\n",
    "        grid[x, y] += v\n",
    "\n",
    "def calculte_flow(can_flow):\n",
    "    flow = np.zeros_like(can_flow, dtype='f')\n",
    "    nx = can_flow.shape[0]\n",
    "    ny = can_flow.shape[1]\n",
    "    flow[0] = 1\n",
    "    \n",
    "    for x in range(1, nx):\n",
    "        xm1 = flow[x-1].copy()\n",
    "\n",
    "        for y in range(ny):\n",
    "            if not can_flow[x, y] and flow[x-1, y]:\n",
    "                if y > 0:\n",
    "                    flow_particle(x-1, y, xm1[y]/2, flow, can_flow, -1)\n",
    "                if y < ny - 1:\n",
    "                    flow_particle(x-1, y, xm1[y]/2, flow, can_flow, 1)\n",
    "\n",
    "        for y in range(ny):\n",
    "            if can_flow[x, y]:\n",
    "                above = flow[x-1, y-1] if y > 0 and not obstacles[x,y-1] else flow[x-1, y]\n",
    "                below = flow[x-1, y+1] if y < ny-1 and not obstacles[x,y+1] else flow[x-1, y]\n",
    "                flow[x, y] = (.5*flow[x-1, y] + .25*above + .25*below)\n",
    "\n",
    "    return flow\n"
   ]
  },
  {
   "cell_type": "code",
   "execution_count": 8,
   "metadata": {
    "collapsed": true
   },
   "outputs": [],
   "source": [
    "shape = (20, 10)\n",
    "obstacles = np.zeros(shape, dtype='uint8')\n",
    "flow = np.zeros(shape+(2,), dtype='uint8')\n",
    "\n",
    "obstacles[10:12, 2:8] = 1\n",
    "obstacles[8:10, 2] = 1\n",
    "obstacles[8:10, 7] = 1\n",
    "obstacles[15, 1:5] = 1\n",
    "\n",
    "#  obstacles[10:12, 4:6] = 0\n"
   ]
  },
  {
   "cell_type": "code",
   "execution_count": 9,
   "metadata": {},
   "outputs": [
    {
     "data": {
      "text/plain": [
       "<matplotlib.image.AxesImage at 0x11341b630>"
      ]
     },
     "execution_count": 9,
     "metadata": {},
     "output_type": "execute_result"
    },
    {
     "data": {
      "image/png": "[encoded data removed]",
      "text/plain": [
       "<matplotlib.figure.Figure at 0x11330f1d0>"
      ]
     },
     "metadata": {},
     "output_type": "display_data"
    }
   ],
   "source": [
    "plt.imshow(obstacles.T)"
   ]
  },
  {
   "cell_type": "code",
   "execution_count": 10,
   "metadata": {},
   "outputs": [
    {
     "data": {
      "text/plain": [
       "<matplotlib.image.AxesImage at 0x1134fa5f8>"
      ]
     },
     "execution_count": 10,
     "metadata": {},
     "output_type": "execute_result"
    },
    {
     "data": {
      "image/png": "[encoded data removed]",
      "text/plain": [
       "<matplotlib.figure.Figure at 0x11338ffd0>"
      ]
     },
     "metadata": {},
     "output_type": "display_data"
    }
   ],
   "source": [
    "can_flow = calc_can_flow(obstacles)\n",
    "plt.imshow(can_flow.T)"
   ]
  },
  {
   "cell_type": "code",
   "execution_count": 11,
   "metadata": {},
   "outputs": [
    {
     "data": {
      "image/png": "[encoded data removed]",
      "text/plain": [
       "<matplotlib.figure.Figure at 0x11350a2e8>"
      ]
     },
     "metadata": {},
     "output_type": "display_data"
    }
   ],
   "source": [
    "flow = calculte_flow(can_flow)\n",
    "_ = plt.imshow(flow.T)"
   ]
  },
  {
   "cell_type": "code",
   "execution_count": 14,
   "metadata": {},
   "outputs": [
    {
     "name": "stdout",
     "output_type": "stream",
     "text": [
      "[[ 1.    1.    1.    1.    1.    1.    1.    1.    1.    1.  ]\n",
      " [ 1.    1.    1.    1.    1.    1.    1.    1.    1.    1.  ]\n",
      " [ 1.    1.    1.    1.    1.    1.    1.    1.    1.    1.  ]\n",
      " [ 1.    1.    1.    1.    1.    1.    1.    1.    1.    1.  ]\n",
      " [ 1.    1.    1.    1.    1.    1.    1.    1.    1.    1.  ]\n",
      " [ 1.    1.    1.    1.    1.    1.    1.    1.    1.    1.  ]\n",
      " [ 1.    1.    1.    1.    1.    1.    1.    1.    1.    1.  ]\n",
      " [ 1.    2.22  1.73  1.56  1.49  1.49  1.56  1.73  2.22  1.  ]\n",
      " [ 1.31  1.92  0.    0.    0.    0.    0.    0.    1.92  1.31]\n",
      " [ 1.46  1.77  0.    0.    0.    0.    0.    0.    1.77  1.46]\n",
      " [ 1.54  1.69  0.    0.    0.    0.    0.    0.    1.69  1.54]\n",
      " [ 1.57  1.65  0.    0.    0.    0.    0.    0.    1.65  1.57]\n",
      " [ 1.59  1.22  0.41  0.    0.    0.    0.    0.41  1.22  1.59]\n",
      " [ 1.5   1.11  0.51  0.1   0.    0.    0.1   0.51  1.11  1.5 ]\n",
      " [ 2.1   1.23  0.72  0.41  0.3   0.31  0.18  0.56  1.06  1.4 ]\n",
      " [ 2.1   0.    0.    0.    0.    0.28  0.31  0.59  1.02  1.32]\n",
      " [ 1.58  0.53  0.    0.    0.07  0.21  0.37  0.63  0.99  1.24]\n",
      " [ 1.32  0.66  0.13  0.02  0.09  0.22  0.4   0.65  0.96  1.18]\n",
      " [ 1.15  0.69  0.23  0.06  0.1   0.23  0.41  0.66  0.94  1.12]\n",
      " [ 1.04  0.69  0.31  0.12  0.12  0.24  0.43  0.67  0.92  1.08]]\n"
     ]
    }
   ],
   "source": [
    "np.set_printoptions(precision=2)\n",
    "print(flow)"
   ]
  },
  {
   "cell_type": "code",
   "execution_count": null,
   "metadata": {
    "collapsed": true
   },
   "outputs": [],
   "source": []
  }
 ],
 "metadata": {
  "kernelspec": {
   "display_name": "Python 3",
   "language": "python",
   "name": "python3"
  },
  "language_info": {
   "codemirror_mode": {
    "name": "ipython",
    "version": 3
   },
   "file_extension": ".py",
   "mimetype": "text/x-python",
   "name": "python",
   "nbconvert_exporter": "python",
   "pygments_lexer": "ipython3",
   "version": "3.5.4"
  }
 },
 "nbformat": 4,
 "nbformat_minor": 2
}
