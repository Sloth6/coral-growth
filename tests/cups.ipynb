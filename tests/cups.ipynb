{
 "cells": [
  {
   "cell_type": "code",
   "execution_count": 2,
   "metadata": {
    "collapsed": true
   },
   "outputs": [],
   "source": [
    "%matplotlib inline\n",
    "import numpy as np\n",
    "import matplotlib.pyplot as plt\n",
    "\n",
    "from collections import defaultdict\n",
    "from cymesh.mesh import Mesh"
   ]
  },
  {
   "cell_type": "code",
   "execution_count": 13,
   "metadata": {
    "collapsed": true
   },
   "outputs": [],
   "source": [
    "mesh = Mesh.from_obj('cup.obj')"
   ]
  },
  {
   "cell_type": "code",
   "execution_count": 50,
   "metadata": {},
   "outputs": [
    {
     "name": "stdout",
     "output_type": "stream",
     "text": [
      "23\n",
      "36\n"
     ]
    }
   ],
   "source": [
    "def grow_fontier(nodes, seen):\n",
    "    frontier = []\n",
    "    for node in nodes:\n",
    "        for neighbor in node.neighbors():\n",
    "            if neighbor not in seen:\n",
    "                frontier.append(neighbor)\n",
    "                seen.add(neighbor)\n",
    "    return frontier\n",
    "    \n",
    "def water_held(mesh):\n",
    "    mesh.calculateNormals()\n",
    "    water_line = 0\n",
    "    seen = set()\n",
    "    \n",
    "    for vert in sorted(mesh.verts, key=lambda vert: vert.p[1]):\n",
    "        if vert in seen:\n",
    "            continue\n",
    "        else:\n",
    "            derp = set([ vert ])\n",
    "            frontier = [ vert ]\n",
    "            water_level = vert.p[1]\n",
    "            \n",
    "            while frontier:\n",
    "                for vert2 in frontier:\n",
    "                    if vert2.p[1] >= water_level:\n",
    "                        derp.add(vert2)\n",
    "                        water_level = vert2.p[1]\n",
    "                \n",
    "                frontier = grow_fontier(frontier, seen)\n",
    "                frontier = sorted(frontier, key=lambda vert: vert.p[1])\n",
    "            print(len(derp))\n",
    "\n",
    "water_held(mesh)\n",
    "print(len(mesh.verts))"
   ]
  },
  {
   "cell_type": "code",
   "execution_count": 36,
   "metadata": {
    "collapsed": true
   },
   "outputs": [],
   "source": [
    "def make_grid(mesh, width=1.0):\n",
    "    grid = defaultdict(int)\n",
    "    \n",
    "    bbox = mesh.boundingBox()\n",
    "    \n",
    "    nx = int((bbox[1] - bbox[0])/width) + 2\n",
    "    nz = int((bbox[5] - bbox[4])/width) + 2\n",
    "    print(nx, nz)\n",
    "    grid = np.zeros((nx, nz))\n",
    "    \n",
    "    for vert in mesh.verts:\n",
    "        x = int((vert.p[0]-bbox[0]) / width)\n",
    "        z = int((vert.p[2]-bbox[4]) / width)\n",
    "        assert 0 <= x < nx\n",
    "        assert 0 <= z < nz\n",
    "        grid[x, z] = max(grid[x, z], vert.p[1])\n",
    "        \n",
    "    return grid"
   ]
  },
  {
   "cell_type": "code",
   "execution_count": 40,
   "metadata": {},
   "outputs": [
    {
     "name": "stdout",
     "output_type": "stream",
     "text": [
      "18 16\n"
     ]
    }
   ],
   "source": [
    "grid = make_grid(mesh, 5)"
   ]
  },
  {
   "cell_type": "code",
   "execution_count": 41,
   "metadata": {},
   "outputs": [
    {
     "data": {
      "text/plain": [
       "71.960785"
      ]
     },
     "execution_count": 41,
     "metadata": {},
     "output_type": "execute_result"
    }
   ],
   "source": [
    "grid.max()"
   ]
  },
  {
   "cell_type": "code",
   "execution_count": 43,
   "metadata": {},
   "outputs": [
    {
     "data": {
      "text/plain": [
       "<matplotlib.image.AxesImage at 0x113dee358>"
      ]
     },
     "execution_count": 43,
     "metadata": {},
     "output_type": "execute_result"
    },
    {
     "data": {
      "image/png": "[encoded data removed]",
      "text/plain": [
       "<matplotlib.figure.Figure at 0x113c58a20>"
      ]
     },
     "metadata": {},
     "output_type": "display_data"
    }
   ],
   "source": [
    "plt.imshow(grid)"
   ]
  },
  {
   "cell_type": "code",
   "execution_count": null,
   "metadata": {
    "collapsed": true
   },
   "outputs": [],
   "source": []
  }
 ],
 "metadata": {
  "kernelspec": {
   "display_name": "Python 3",
   "language": "python",
   "name": "python3"
  },
  "language_info": {
   "codemirror_mode": {
    "name": "ipython",
    "version": 3
   },
   "file_extension": ".py",
   "mimetype": "text/x-python",
   "name": "python",
   "nbconvert_exporter": "python",
   "pygments_lexer": "ipython3",
   "version": "3.5.4"
  }
 },
 "nbformat": 4,
 "nbformat_minor": 2
}
