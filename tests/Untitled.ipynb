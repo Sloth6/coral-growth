{
 "cells": [
  {
   "cell_type": "code",
   "execution_count": 37,
   "metadata": {},
   "outputs": [
    {
     "name": "stdout",
     "output_type": "stream",
     "text": [
      "The autoreload extension is already loaded. To reload it, use:\n",
      "  %reload_ext autoreload\n"
     ]
    }
   ],
   "source": [
    "%load_ext autoreload\n",
    "%autoreload 2\n",
    "%matplotlib inline\n",
    "\n",
    "import matplotlib.pyplot as plt\n",
    "import sys\n",
    "import numpy as np\n",
    "sys.path.append('../coral_growth')\n",
    "\n",
    "\n",
    "def show(img):\n",
    "#     plt.xticks([]), plt.yticks([])\n",
    "    plt.imshow(img[:, 0, :])#, cmap = 'gray')"
   ]
  },
  {
   "cell_type": "code",
   "execution_count": 17,
   "metadata": {
    "collapsed": true
   },
   "outputs": [],
   "source": [
    "obstacles = np.zeros((10, 1, 10), dtype='i')\n",
    "obstacles[2, 0, 2:8] = 1"
   ]
  },
  {
   "cell_type": "code",
   "execution_count": 14,
   "metadata": {},
   "outputs": [
    {
     "data": {
      "image/png": "[encoded data removed]",
      "text/plain": [
       "<matplotlib.figure.Figure at 0x113b603c8>"
      ]
     },
     "metadata": {},
     "output_type": "display_data"
    }
   ],
   "source": [
    "show(obstacles)"
   ]
  },
  {
   "cell_type": "code",
   "execution_count": 34,
   "metadata": {},
   "outputs": [
    {
     "name": "stdout",
     "output_type": "stream",
     "text": [
      "flowing particle 1 0 2\n",
      "flowing particle end (0, 0) (2, 1) \n",
      "\n",
      "adding 1 0 1 0.25\n",
      "flowing particle 1 0 2\n",
      "flowing particle end (0, 0) (2, 8) \n",
      "\n",
      "adding 1 0 3 0.0416666666667\n",
      "adding 1 0 4 0.0416666666667\n",
      "adding 1 0 5 0.0416666666667\n",
      "adding 1 0 6 0.0416666666667\n",
      "adding 1 0 7 0.0416666666667\n",
      "adding 1 0 8 0.0416666666667\n",
      "flowing particle 1 0 3\n",
      "flowing particle end (0, 0) (3, 1) \n",
      "\n",
      "adding 1 0 2 0.125\n",
      "adding 1 0 1 0.125\n",
      "flowing particle 1 0 3\n",
      "flowing particle end (0, 0) (3, 8) \n",
      "\n",
      "adding 1 0 4 0.05\n",
      "adding 1 0 5 0.05\n",
      "adding 1 0 6 0.05\n",
      "adding 1 0 7 0.05\n",
      "adding 1 0 8 0.05\n",
      "flowing particle 1 0 4\n",
      "flowing particle end (0, 0) (4, 1) \n",
      "\n",
      "adding 1 0 3 0.0833333333333\n",
      "adding 1 0 2 0.0833333333333\n",
      "adding 1 0 1 0.0833333333333\n",
      "flowing particle 1 0 4\n",
      "flowing particle end (0, 0) (4, 8) \n",
      "\n",
      "adding 1 0 5 0.0625\n",
      "adding 1 0 6 0.0625\n",
      "adding 1 0 7 0.0625\n",
      "adding 1 0 8 0.0625\n",
      "flowing particle 1 0 5\n",
      "flowing particle end (0, 0) (5, 1) \n",
      "\n",
      "adding 1 0 4 0.0625\n",
      "adding 1 0 3 0.0625\n",
      "adding 1 0 2 0.0625\n",
      "adding 1 0 1 0.0625\n",
      "flowing particle 1 0 5\n",
      "flowing particle end (0, 0) (5, 8) \n",
      "\n",
      "adding 1 0 6 0.0833333333333\n",
      "adding 1 0 7 0.0833333333333\n",
      "adding 1 0 8 0.0833333333333\n",
      "flowing particle 1 0 6\n",
      "flowing particle end (0, 0) (6, 1) \n",
      "\n",
      "adding 1 0 5 0.05\n",
      "adding 1 0 4 0.05\n",
      "adding 1 0 3 0.05\n",
      "adding 1 0 2 0.05\n",
      "adding 1 0 1 0.05\n",
      "flowing particle 1 0 6\n",
      "flowing particle end (0, 0) (6, 8) \n",
      "\n",
      "adding 1 0 7 0.125\n",
      "adding 1 0 8 0.125\n",
      "flowing particle 1 0 7\n",
      "flowing particle end (0, 0) (7, 1) \n",
      "\n",
      "adding 1 0 6 0.0416666666667\n",
      "adding 1 0 5 0.0416666666667\n",
      "adding 1 0 4 0.0416666666667\n",
      "adding 1 0 3 0.0416666666667\n",
      "adding 1 0 2 0.0416666666667\n",
      "adding 1 0 1 0.0416666666667\n",
      "flowing particle 1 0 7\n",
      "flowing particle end (0, 0) (7, 8) \n",
      "\n",
      "adding 1 0 8 0.25\n"
     ]
    }
   ],
   "source": [
    "from modules.flow import calculate_flow\n",
    "flow = calculate_flow(obstacles)"
   ]
  },
  {
   "cell_type": "code",
   "execution_count": 35,
   "metadata": {},
   "outputs": [
    {
     "data": {
      "image/png": "[encoded data removed]",
      "text/plain": [
       "<matplotlib.figure.Figure at 0x113a24358>"
      ]
     },
     "metadata": {},
     "output_type": "display_data"
    }
   ],
   "source": [
    "show(flow)"
   ]
  },
  {
   "cell_type": "code",
   "execution_count": 36,
   "metadata": {},
   "outputs": [
    {
     "name": "stdout",
     "output_type": "stream",
     "text": [
      "[[ 1.    1.    1.    1.    1.    1.    1.    1.    1.    1.  ]\n",
      " [ 1.    1.61  1.36  1.28  1.25  1.25  1.28  1.36  1.61  1.  ]\n",
      " [ 1.08  1.54  0.    0.    0.    0.    0.    0.    1.54  1.08]\n",
      " [ 1.13  1.29  0.19  0.    0.    0.    0.    0.19  1.29  1.13]\n",
      " [ 1.15  1.13  0.3   0.02  0.    0.    0.02  0.3   1.13  1.15]\n",
      " [ 1.15  1.03  0.37  0.06  0.    0.    0.06  0.37  1.03  1.15]\n",
      " [ 1.14  0.96  0.42  0.09  0.01  0.01  0.09  0.42  0.96  1.14]\n",
      " [ 1.11  0.92  0.44  0.12  0.02  0.02  0.12  0.44  0.92  1.11]\n",
      " [ 1.09  0.88  0.46  0.15  0.03  0.03  0.15  0.46  0.88  1.09]\n",
      " [ 1.06  0.86  0.48  0.17  0.05  0.05  0.17  0.48  0.86  1.06]]\n"
     ]
    }
   ],
   "source": [
    "np.set_printoptions(precision=2)\n",
    "print(np.asarray(flow[:, 0, :]))"
   ]
  },
  {
   "cell_type": "code",
   "execution_count": null,
   "metadata": {
    "collapsed": true
   },
   "outputs": [],
   "source": []
  }
 ],
 "metadata": {
  "kernelspec": {
   "display_name": "Python 3",
   "language": "python",
   "name": "python3"
  },
  "language_info": {
   "codemirror_mode": {
    "name": "ipython",
    "version": 3
   },
   "file_extension": ".py",
   "mimetype": "text/x-python",
   "name": "python",
   "nbconvert_exporter": "python",
   "pygments_lexer": "ipython3",
   "version": "3.5.4"
  }
 },
 "nbformat": 4,
 "nbformat_minor": 2
}
